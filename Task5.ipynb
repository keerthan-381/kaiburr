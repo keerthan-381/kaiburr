{
  "nbformat": 4,
  "nbformat_minor": 0,
  "metadata": {
    "colab": {
      "provenance": [],
      "gpuType": "T4"
    },
    "kernelspec": {
      "name": "python3",
      "display_name": "Python 3"
    },
    "language_info": {
      "name": "python"
    },
    "accelerator": "GPU"
  },
  "cells": [
    {
      "cell_type": "code",
      "execution_count": 2,
      "metadata": {
        "colab": {
          "base_uri": "https://localhost:8080/"
        },
        "id": "qTfO88s3fIds",
        "outputId": "6489aeca-c1cb-40a2-ae90-ae0160179895"
      },
      "outputs": [
        {
          "output_type": "stream",
          "name": "stdout",
          "text": [
            "Mounted at /content/gdrive\n"
          ]
        }
      ],
      "source": [
        "from google.colab import drive\n",
        "\n",
        "drive.mount('/content/gdrive')\n"
      ]
    },
    {
      "cell_type": "code",
      "source": [
        "import pandas as pd\n",
        "from sklearn.model_selection import train_test_split\n",
        "from sklearn.feature_extraction.text import TfidfVectorizer\n",
        "from sklearn.naive_bayes import MultinomialNB\n",
        "from sklearn.metrics import accuracy_score, classification_report\n",
        "import matplotlib.pyplot as plt\n",
        "import seaborn as sns\n",
        "from sklearn.preprocessing import LabelEncoder"
      ],
      "metadata": {
        "id": "I-1vuZF6fXsz"
      },
      "execution_count": 3,
      "outputs": []
    },
    {
      "cell_type": "code",
      "source": [
        "data = pd.read_csv('/content/gdrive/My Drive/complaints.csv')\n"
      ],
      "metadata": {
        "colab": {
          "base_uri": "https://localhost:8080/"
        },
        "id": "PIDVJFSzfYi2",
        "outputId": "94d9caba-4c2b-417d-f9f2-be0d8232b502"
      },
      "execution_count": 4,
      "outputs": [
        {
          "output_type": "stream",
          "name": "stderr",
          "text": [
            "<ipython-input-4-5c7ca1ac1ffb>:1: DtypeWarning: Columns (5,16) have mixed types. Specify dtype option on import or set low_memory=False.\n",
            "  data = pd.read_csv('/content/gdrive/My Drive/complaints.csv')\n"
          ]
        }
      ]
    },
    {
      "cell_type": "markdown",
      "source": [
        "Explanatory Data Analysis"
      ],
      "metadata": {
        "id": "8x0XVnxrJ581"
      }
    },
    {
      "cell_type": "code",
      "source": [
        "print(data.head())"
      ],
      "metadata": {
        "colab": {
          "base_uri": "https://localhost:8080/"
        },
        "id": "6FPAam86gOML",
        "outputId": "48e4a0b6-930d-47c0-aa7a-db02faaacf6d"
      },
      "execution_count": 24,
      "outputs": [
        {
          "output_type": "stream",
          "name": "stdout",
          "text": [
            "      Date received  Product                            Sub-product  \\\n",
            "32577    2015-04-13        0  Other (i.e. phone, health club, etc.)   \n",
            "37606    2016-12-16        0  Other (i.e. phone, health club, etc.)   \n",
            "38017    2015-04-04        0                            Credit card   \n",
            "38172    2017-03-24        0                            Credit card   \n",
            "38434    2016-05-30        0                                Medical   \n",
            "\n",
            "                                       Issue                  Sub-issue  \\\n",
            "32577                  Communication tactics  Called outside of 8am-9pm   \n",
            "37606  Cont'd attempts collect debt not owed           Debt is not mine   \n",
            "38017  Cont'd attempts collect debt not owed              Debt was paid   \n",
            "38172  Cont'd attempts collect debt not owed           Debt is not mine   \n",
            "38434  Cont'd attempts collect debt not owed              Debt was paid   \n",
            "\n",
            "                            Consumer complaint narrative  \\\n",
            "32577  I got my XXXX call around XXXX XXXX. I was up ...   \n",
            "37606  XXXX bill that is not mine I never lived in NJ...   \n",
            "38017  XXXX XXXX XXXX of XXXX XXXX Ca charged me XXXX...   \n",
            "38172  According to my credit report from XXXX, I hav...   \n",
            "38434  This debt from my XXXX and according to the in...   \n",
            "\n",
            "                                 Company public response  \\\n",
            "32577   Company chooses not to provide a public response   \n",
            "37606  Company believes it acted appropriately as aut...   \n",
            "38017   Company chooses not to provide a public response   \n",
            "38172  Company believes it acted appropriately as aut...   \n",
            "38434  Company has responded to the consumer and the ...   \n",
            "\n",
            "                                   Company State ZIP code  \\\n",
            "32577  Credit Protection Association, L.P.    OR    97420   \n",
            "37606               Stellar Recovery, Inc.    DE    19702   \n",
            "38017                       CITIBANK, N.A.    NY    14094   \n",
            "38172              Penn Credit Corporation    AP    XXXXX   \n",
            "38434        CMRE Financial Services, Inc.    CA    92694   \n",
            "\n",
            "                                Tags Consumer consent provided? Submitted via  \\\n",
            "32577                 Older American           Consent provided           Web   \n",
            "37606                  Servicemember           Consent provided           Web   \n",
            "38017  Older American, Servicemember           Consent provided           Web   \n",
            "38172                  Servicemember           Consent provided           Web   \n",
            "38434  Older American, Servicemember           Consent provided           Web   \n",
            "\n",
            "      Date sent to company     Company response to consumer Timely response?  \\\n",
            "32577           2015-04-13  Closed with non-monetary relief              Yes   \n",
            "37606           2017-01-25          Closed with explanation              Yes   \n",
            "38017           2015-04-08      Closed with monetary relief              Yes   \n",
            "38172           2017-03-24          Closed with explanation              Yes   \n",
            "38434           2016-06-03          Closed with explanation              Yes   \n",
            "\n",
            "      Consumer disputed?  Complaint ID  Text_Length  \n",
            "32577                 No       1327256          375  \n",
            "37606                 No       2252526           77  \n",
            "38017                 No       1316008         1088  \n",
            "38172                 No       2402337          125  \n",
            "38434                 No       1946820          126  \n"
          ]
        }
      ]
    },
    {
      "cell_type": "code",
      "source": [
        "print(data.info())"
      ],
      "metadata": {
        "colab": {
          "base_uri": "https://localhost:8080/"
        },
        "id": "1AJYbY1ZgRKx",
        "outputId": "d1c8890e-37b5-486a-acd4-c2dd059ad927"
      },
      "execution_count": 6,
      "outputs": [
        {
          "output_type": "stream",
          "name": "stdout",
          "text": [
            "<class 'pandas.core.frame.DataFrame'>\n",
            "RangeIndex: 4528267 entries, 0 to 4528266\n",
            "Data columns (total 18 columns):\n",
            " #   Column                        Dtype \n",
            "---  ------                        ----- \n",
            " 0   Date received                 object\n",
            " 1   Product                       object\n",
            " 2   Sub-product                   object\n",
            " 3   Issue                         object\n",
            " 4   Sub-issue                     object\n",
            " 5   Consumer complaint narrative  object\n",
            " 6   Company public response       object\n",
            " 7   Company                       object\n",
            " 8   State                         object\n",
            " 9   ZIP code                      object\n",
            " 10  Tags                          object\n",
            " 11  Consumer consent provided?    object\n",
            " 12  Submitted via                 object\n",
            " 13  Date sent to company          object\n",
            " 14  Company response to consumer  object\n",
            " 15  Timely response?              object\n",
            " 16  Consumer disputed?            object\n",
            " 17  Complaint ID                  int64 \n",
            "dtypes: int64(1), object(17)\n",
            "memory usage: 621.9+ MB\n",
            "None\n"
          ]
        }
      ]
    },
    {
      "cell_type": "code",
      "source": [
        "print(data.describe())"
      ],
      "metadata": {
        "colab": {
          "base_uri": "https://localhost:8080/"
        },
        "id": "4uDAXZIrgS2A",
        "outputId": "db60f1fb-03a6-432e-a305-f31bfebe0c64"
      },
      "execution_count": 7,
      "outputs": [
        {
          "output_type": "stream",
          "name": "stdout",
          "text": [
            "       Complaint ID\n",
            "count  4.528267e+06\n",
            "mean   4.679673e+06\n",
            "std    2.194445e+06\n",
            "min    1.000000e+00\n",
            "25%    3.027310e+06\n",
            "50%    4.713977e+06\n",
            "75%    6.632294e+06\n",
            "max    8.143900e+06\n"
          ]
        }
      ]
    },
    {
      "cell_type": "code",
      "source": [
        "print(data.isnull().sum())"
      ],
      "metadata": {
        "colab": {
          "base_uri": "https://localhost:8080/"
        },
        "id": "5ThL67cOgUx5",
        "outputId": "c5054299-086d-477e-f2ca-13822ed14320"
      },
      "execution_count": 8,
      "outputs": [
        {
          "output_type": "stream",
          "name": "stdout",
          "text": [
            "Date received                         0\n",
            "Product                               0\n",
            "Sub-product                      235291\n",
            "Issue                                 0\n",
            "Sub-issue                        724952\n",
            "Consumer complaint narrative    2887355\n",
            "Company public response         2384053\n",
            "Company                               0\n",
            "State                             43962\n",
            "ZIP code                          30223\n",
            "Tags                            4076120\n",
            "Consumer consent provided?       918032\n",
            "Submitted via                         0\n",
            "Date sent to company                  0\n",
            "Company response to consumer         10\n",
            "Timely response?                      0\n",
            "Consumer disputed?              3759912\n",
            "Complaint ID                          0\n",
            "dtype: int64\n"
          ]
        }
      ]
    },
    {
      "cell_type": "code",
      "source": [
        "data = data.dropna()"
      ],
      "metadata": {
        "id": "0ai1rhgagWFZ"
      },
      "execution_count": 9,
      "outputs": []
    },
    {
      "cell_type": "code",
      "source": [
        "print(data.isnull().sum())"
      ],
      "metadata": {
        "colab": {
          "base_uri": "https://localhost:8080/"
        },
        "id": "R0pr_LQOgv_K",
        "outputId": "b7e6c204-b693-4771-8a20-d93f7d89fea7"
      },
      "execution_count": 10,
      "outputs": [
        {
          "output_type": "stream",
          "name": "stdout",
          "text": [
            "Date received                   0\n",
            "Product                         0\n",
            "Sub-product                     0\n",
            "Issue                           0\n",
            "Sub-issue                       0\n",
            "Consumer complaint narrative    0\n",
            "Company public response         0\n",
            "Company                         0\n",
            "State                           0\n",
            "ZIP code                        0\n",
            "Tags                            0\n",
            "Consumer consent provided?      0\n",
            "Submitted via                   0\n",
            "Date sent to company            0\n",
            "Company response to consumer    0\n",
            "Timely response?                0\n",
            "Consumer disputed?              0\n",
            "Complaint ID                    0\n",
            "dtype: int64\n"
          ]
        }
      ]
    },
    {
      "cell_type": "code",
      "source": [
        "print(data['Product'].value_counts())\n"
      ],
      "metadata": {
        "colab": {
          "base_uri": "https://localhost:8080/"
        },
        "id": "VbneTndfgznh",
        "outputId": "ea68abba-0b51-4d7b-d9c4-ccc4435e3c4a"
      },
      "execution_count": 11,
      "outputs": [
        {
          "output_type": "stream",
          "name": "stdout",
          "text": [
            "Debt collection    2983\n",
            "Student loan        137\n",
            "Name: Product, dtype: int64\n"
          ]
        }
      ]
    },
    {
      "cell_type": "code",
      "source": [
        "sns.countplot(x='Product', data=data)\n",
        "plt.show()\n",
        "\n"
      ],
      "metadata": {
        "colab": {
          "base_uri": "https://localhost:8080/",
          "height": 449
        },
        "id": "TJocnApvg1kQ",
        "outputId": "83e980fa-e662-4e72-f63c-74ca24e3faaa"
      },
      "execution_count": 12,
      "outputs": [
        {
          "output_type": "display_data",
          "data": {
            "text/plain": [
              "<Figure size 640x480 with 1 Axes>"
            ],
            "image/png": "[encoded data removed]"
          },
          "metadata": {}
        }
      ]
    },
    {
      "cell_type": "code",
      "source": [
        "data['Consumer complaint narrative'].fillna('', inplace=True)\n"
      ],
      "metadata": {
        "id": "Wlo5pU8kg3kC"
      },
      "execution_count": 13,
      "outputs": []
    },
    {
      "cell_type": "code",
      "source": [
        "data['Text_Length'] = data['Consumer complaint narrative'].apply(len)\n"
      ],
      "metadata": {
        "id": "0pOhbRX1hngx"
      },
      "execution_count": 14,
      "outputs": []
    },
    {
      "cell_type": "code",
      "source": [
        "sns.histplot(data['Text_Length'], bins=50)\n",
        "plt.xlabel('Text Length')\n",
        "plt.ylabel('Count')\n",
        "plt.show()"
      ],
      "metadata": {
        "colab": {
          "base_uri": "https://localhost:8080/",
          "height": 449
        },
        "id": "Tp1VkwNdhoZG",
        "outputId": "3d374053-d681-46e3-a7bb-bc3f77c1fec5"
      },
      "execution_count": 15,
      "outputs": [
        {
          "output_type": "display_data",
          "data": {
            "text/plain": [
              "<Figure size 640x480 with 1 Axes>"
            ],
            "image/png": "[encoded data removed]"
          },
          "metadata": {}
        }
      ]
    },
    {
      "cell_type": "code",
      "source": [
        "label_encoder = LabelEncoder()\n",
        "data['Product'] = label_encoder.fit_transform(data['Product'])"
      ],
      "metadata": {
        "id": "0N2qEY3chqLP"
      },
      "execution_count": 16,
      "outputs": []
    },
    {
      "cell_type": "markdown",
      "source": [
        "Data Splitting"
      ],
      "metadata": {
        "id": "fXHdhGKmKBqL"
      }
    },
    {
      "cell_type": "code",
      "source": [
        "X_train, X_test, y_train, y_test = train_test_split(data['Consumer complaint narrative'], data['Product'], test_size=0.2, random_state=42)\n"
      ],
      "metadata": {
        "id": "QfGWvGmyhth0"
      },
      "execution_count": 17,
      "outputs": []
    },
    {
      "cell_type": "markdown",
      "source": [
        "TF-IDF Vectorization"
      ],
      "metadata": {
        "id": "2PxCLG9TKd1k"
      }
    },
    {
      "cell_type": "code",
      "source": [
        "tfidf_vectorizer = TfidfVectorizer(max_features=5000)\n",
        "X_train_tfidf = tfidf_vectorizer.fit_transform(X_train)\n",
        "X_test_tfidf = tfidf_vectorizer.transform(X_test)\n"
      ],
      "metadata": {
        "id": "PkaITvCJhu7U"
      },
      "execution_count": 18,
      "outputs": []
    },
    {
      "cell_type": "markdown",
      "source": [
        "SMOTE (For Data Balance)"
      ],
      "metadata": {
        "id": "2ommRsfwKgmb"
      }
    },
    {
      "cell_type": "code",
      "source": [
        "from imblearn.over_sampling import SMOTE\n",
        "smote = SMOTE(random_state=42)\n",
        "X_resampled, y_resampled = smote.fit_resample(X_train_tfidf, y_train)\n"
      ],
      "metadata": {
        "id": "-7kC0WgpGxjX"
      },
      "execution_count": 37,
      "outputs": []
    },
    {
      "cell_type": "markdown",
      "source": [
        "Naive Bayes Model"
      ],
      "metadata": {
        "id": "DeGQvnOMKoKx"
      }
    },
    {
      "cell_type": "code",
      "source": [
        "model = MultinomialNB()\n",
        "\n",
        "\n",
        "model.fit(X_resampled, y_resampled)\n",
        "\n",
        "\n",
        "y_pred = model.predict(X_test_tfidf)"
      ],
      "metadata": {
        "id": "583rSD_ahwxf"
      },
      "execution_count": 41,
      "outputs": []
    },
    {
      "cell_type": "code",
      "source": [
        "accuracy = accuracy_score(y_test, y_pred)\n",
        "print(f'Accuracy: {accuracy}')"
      ],
      "metadata": {
        "colab": {
          "base_uri": "https://localhost:8080/"
        },
        "id": "hBeSUK2rh0qz",
        "outputId": "5469d2ec-75c4-4b1b-d2b8-bb95ddc214db"
      },
      "execution_count": 42,
      "outputs": [
        {
          "output_type": "stream",
          "name": "stdout",
          "text": [
            "Accuracy: 0.9551282051282052\n"
          ]
        }
      ]
    },
    {
      "cell_type": "code",
      "source": [
        "print(classification_report(y_test, y_pred))"
      ],
      "metadata": {
        "colab": {
          "base_uri": "https://localhost:8080/"
        },
        "id": "wrZTFADth4J7",
        "outputId": "078656f2-e11c-4639-e130-a87e52fd62e8"
      },
      "execution_count": 43,
      "outputs": [
        {
          "output_type": "stream",
          "name": "stdout",
          "text": [
            "              precision    recall  f1-score   support\n",
            "\n",
            "           0       0.99      0.96      0.98       588\n",
            "           1       0.58      0.81      0.67        36\n",
            "\n",
            "    accuracy                           0.96       624\n",
            "   macro avg       0.78      0.88      0.83       624\n",
            "weighted avg       0.96      0.96      0.96       624\n",
            "\n"
          ]
        }
      ]
    },
    {
      "cell_type": "code",
      "source": [],
      "metadata": {
        "id": "MV8StMfvGNz7"
      },
      "execution_count": null,
      "outputs": []
    },
    {
      "cell_type": "code",
      "source": [],
      "metadata": {
        "id": "Vg0CN1E-GN24"
      },
      "execution_count": null,
      "outputs": []
    },
    {
      "cell_type": "code",
      "source": [],
      "metadata": {
        "id": "XTo_uSK6GN5j"
      },
      "execution_count": null,
      "outputs": []
    },
    {
      "cell_type": "code",
      "source": [
        "from sklearn.linear_model import LogisticRegression\n",
        "from sklearn.ensemble import RandomForestClassifier\n",
        "from sklearn.svm import SVC"
      ],
      "metadata": {
        "id": "92RpRITXDHn1"
      },
      "execution_count": 25,
      "outputs": []
    },
    {
      "cell_type": "markdown",
      "source": [
        "Logistic Regression Model"
      ],
      "metadata": {
        "id": "BuDjUJBoKr1E"
      }
    },
    {
      "cell_type": "code",
      "source": [
        "model = LogisticRegression()\n",
        "\n",
        "\n",
        "model.fit(X_resampled, y_resampled)\n",
        "\n",
        "\n",
        "y_pred = model.predict(X_test_tfidf)"
      ],
      "metadata": {
        "id": "CnbTHBUgDHqj"
      },
      "execution_count": 44,
      "outputs": []
    },
    {
      "cell_type": "code",
      "source": [
        "accuracy = accuracy_score(y_test, y_pred)\n",
        "print(f'Accuracy: {accuracy}')"
      ],
      "metadata": {
        "colab": {
          "base_uri": "https://localhost:8080/"
        },
        "id": "wywZphXuDHt1",
        "outputId": "7bf767db-ade3-49e4-dc42-89a0be07da58"
      },
      "execution_count": 45,
      "outputs": [
        {
          "output_type": "stream",
          "name": "stdout",
          "text": [
            "Accuracy: 0.9743589743589743\n"
          ]
        }
      ]
    },
    {
      "cell_type": "code",
      "source": [
        "print(classification_report(y_test, y_pred))"
      ],
      "metadata": {
        "colab": {
          "base_uri": "https://localhost:8080/"
        },
        "id": "K9PG8QPsDHw1",
        "outputId": "3f8efbc7-8d13-406a-8822-8c15d4f53057"
      },
      "execution_count": 46,
      "outputs": [
        {
          "output_type": "stream",
          "name": "stdout",
          "text": [
            "              precision    recall  f1-score   support\n",
            "\n",
            "           0       0.98      0.99      0.99       588\n",
            "           1       0.79      0.75      0.77        36\n",
            "\n",
            "    accuracy                           0.97       624\n",
            "   macro avg       0.89      0.87      0.88       624\n",
            "weighted avg       0.97      0.97      0.97       624\n",
            "\n"
          ]
        }
      ]
    },
    {
      "cell_type": "code",
      "source": [],
      "metadata": {
        "id": "6sus0mTsDHzg"
      },
      "execution_count": null,
      "outputs": []
    },
    {
      "cell_type": "markdown",
      "source": [
        "Random Forest Model"
      ],
      "metadata": {
        "id": "GyMKN4yaKvVP"
      }
    },
    {
      "cell_type": "code",
      "source": [
        "model = RandomForestClassifier()\n",
        "\n",
        "\n",
        "model.fit(X_resampled, y_resampled)\n",
        "\n",
        "\n",
        "y_pred = model.predict(X_test_tfidf)"
      ],
      "metadata": {
        "id": "RuniFsoaDH5M"
      },
      "execution_count": 47,
      "outputs": []
    },
    {
      "cell_type": "code",
      "source": [
        "accuracy = accuracy_score(y_test, y_pred)\n",
        "print(f'Accuracy: {accuracy}')"
      ],
      "metadata": {
        "colab": {
          "base_uri": "https://localhost:8080/"
        },
        "id": "QYT0AJ98DH8r",
        "outputId": "e6141658-24d1-4969-de9b-bb85b2929bbf"
      },
      "execution_count": 48,
      "outputs": [
        {
          "output_type": "stream",
          "name": "stdout",
          "text": [
            "Accuracy: 0.9519230769230769\n"
          ]
        }
      ]
    },
    {
      "cell_type": "code",
      "source": [
        "print(classification_report(y_test, y_pred))"
      ],
      "metadata": {
        "colab": {
          "base_uri": "https://localhost:8080/"
        },
        "id": "DyD6bOfGGatv",
        "outputId": "c8179643-a35b-4a3f-8b5d-b0d0fd370f0f"
      },
      "execution_count": 49,
      "outputs": [
        {
          "output_type": "stream",
          "name": "stdout",
          "text": [
            "              precision    recall  f1-score   support\n",
            "\n",
            "           0       0.95      1.00      0.98       588\n",
            "           1       1.00      0.17      0.29        36\n",
            "\n",
            "    accuracy                           0.95       624\n",
            "   macro avg       0.98      0.58      0.63       624\n",
            "weighted avg       0.95      0.95      0.94       624\n",
            "\n"
          ]
        }
      ]
    },
    {
      "cell_type": "code",
      "source": [],
      "metadata": {
        "id": "M1u3c9YwGci-"
      },
      "execution_count": null,
      "outputs": []
    },
    {
      "cell_type": "markdown",
      "source": [
        "Support Vector Machine Model"
      ],
      "metadata": {
        "id": "-sknY52CKz0N"
      }
    },
    {
      "cell_type": "code",
      "source": [
        "model = SVC()\n",
        "\n",
        "\n",
        "model.fit(X_resampled, y_resampled)\n",
        "\n",
        "\n",
        "y_pred = model.predict(X_test_tfidf)"
      ],
      "metadata": {
        "id": "nL7FMvUMGcpX"
      },
      "execution_count": 50,
      "outputs": []
    },
    {
      "cell_type": "code",
      "source": [
        "accuracy = accuracy_score(y_test, y_pred)\n",
        "print(f'Accuracy: {accuracy}')"
      ],
      "metadata": {
        "colab": {
          "base_uri": "https://localhost:8080/"
        },
        "id": "nHDHsyySGgMj",
        "outputId": "2409b0ba-3d53-487d-ede2-4fef171f0983"
      },
      "execution_count": 51,
      "outputs": [
        {
          "output_type": "stream",
          "name": "stdout",
          "text": [
            "Accuracy: 0.9615384615384616\n"
          ]
        }
      ]
    },
    {
      "cell_type": "code",
      "source": [
        "print(classification_report(y_test, y_pred))"
      ],
      "metadata": {
        "colab": {
          "base_uri": "https://localhost:8080/"
        },
        "id": "5vqOBd1AGiD7",
        "outputId": "56d8ceb6-549e-4ad9-957e-fe25d4f3b634"
      },
      "execution_count": 52,
      "outputs": [
        {
          "output_type": "stream",
          "name": "stdout",
          "text": [
            "              precision    recall  f1-score   support\n",
            "\n",
            "           0       0.96      1.00      0.98       588\n",
            "           1       0.88      0.39      0.54        36\n",
            "\n",
            "    accuracy                           0.96       624\n",
            "   macro avg       0.92      0.69      0.76       624\n",
            "weighted avg       0.96      0.96      0.95       624\n",
            "\n"
          ]
        }
      ]
    },
    {
      "cell_type": "code",
      "source": [],
      "metadata": {
        "id": "rT05GKxnGj75"
      },
      "execution_count": null,
      "outputs": []
    },
    {
      "cell_type": "code",
      "source": [],
      "metadata": {
        "id": "zQRPqmnxGj-5"
      },
      "execution_count": null,
      "outputs": []
    },
    {
      "cell_type": "markdown",
      "source": [
        "Prediction"
      ],
      "metadata": {
        "id": "cp2EFTKCK4AY"
      }
    },
    {
      "cell_type": "code",
      "source": [
        "\n",
        "new_complaint = [\"This company charged me incorrect fees and provided poor service.\"]\n",
        "\n",
        "new_complaint_tfidf = tfidf_vectorizer.transform(new_complaint)\n",
        "\n",
        "predicted_category = model.predict(new_complaint_tfidf)\n",
        "\n",
        "predicted_category_label = label_encoder.inverse_transform(predicted_category)\n",
        "\n",
        "print(f\"Predicted Category: {predicted_category_label}\")\n"
      ],
      "metadata": {
        "colab": {
          "base_uri": "https://localhost:8080/"
        },
        "id": "84yVaYhfGkCc",
        "outputId": "9c69a638-50b0-4b05-e2df-09cc87aee172"
      },
      "execution_count": 53,
      "outputs": [
        {
          "output_type": "stream",
          "name": "stdout",
          "text": [
            "Predicted Category: ['Debt collection']\n"
          ]
        }
      ]
    },
    {
      "cell_type": "code",
      "source": [],
      "metadata": {
        "id": "817y-Q0OGret"
      },
      "execution_count": null,
      "outputs": []
    },
    {
      "cell_type": "code",
      "source": [],
      "metadata": {
        "id": "Avus_0QNGriC"
      },
      "execution_count": null,
      "outputs": []
    },
    {
      "cell_type": "code",
      "source": [],
      "metadata": {
        "id": "vSTZ71s6GrlA"
      },
      "execution_count": null,
      "outputs": []
    },
    {
      "cell_type": "code",
      "source": [],
      "metadata": {
        "id": "Z0ZEumiBGroW"
      },
      "execution_count": null,
      "outputs": []
    }
  ]
}